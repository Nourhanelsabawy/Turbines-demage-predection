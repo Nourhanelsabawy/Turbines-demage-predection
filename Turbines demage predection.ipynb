{
 "cells": [
  {
   "cell_type": "markdown",
   "metadata": {},
   "source": [
    "# CALLING OUR LIBRARIES"
   ]
  },
  {
   "cell_type": "code",
   "execution_count": 1,
   "metadata": {},
   "outputs": [],
   "source": [
    "import pandas as pd\n",
    "import numpy as np"
   ]
  },
  {
   "cell_type": "markdown",
   "metadata": {},
   "source": [
    "# LOAD DATA"
   ]
  },
  {
   "cell_type": "code",
   "execution_count": 2,
   "metadata": {},
   "outputs": [
    {
     "data": {
      "text/html": [
       "<div>\n",
       "<style scoped>\n",
       "    .dataframe tbody tr th:only-of-type {\n",
       "        vertical-align: middle;\n",
       "    }\n",
       "\n",
       "    .dataframe tbody tr th {\n",
       "        vertical-align: top;\n",
       "    }\n",
       "\n",
       "    .dataframe thead th {\n",
       "        text-align: right;\n",
       "    }\n",
       "</style>\n",
       "<table border=\"1\" class=\"dataframe\">\n",
       "  <thead>\n",
       "    <tr style=\"text-align: right;\">\n",
       "      <th></th>\n",
       "      <th>id</th>\n",
       "      <th>timestamp</th>\n",
       "      <th>active_power_calculated_by_converter</th>\n",
       "      <th>active_power_raw</th>\n",
       "      <th>ambient_temperature</th>\n",
       "      <th>generator_speed</th>\n",
       "      <th>generator_winding_temp_max</th>\n",
       "      <th>grid_power10min_average</th>\n",
       "      <th>nc1_inside_temp</th>\n",
       "      <th>nacelle_temp</th>\n",
       "      <th>reactice_power_calculated_by_converter</th>\n",
       "      <th>reactive_power</th>\n",
       "      <th>wind_direction_raw</th>\n",
       "      <th>wind_speed_raw</th>\n",
       "      <th>wind_speed_turbulence</th>\n",
       "      <th>turbine_id</th>\n",
       "      <th>Target</th>\n",
       "    </tr>\n",
       "  </thead>\n",
       "  <tbody>\n",
       "    <tr>\n",
       "      <th>0</th>\n",
       "      <td>0</td>\n",
       "      <td>6/22/2021 13:15</td>\n",
       "      <td>59.071225</td>\n",
       "      <td>59.117203</td>\n",
       "      <td>35.765579</td>\n",
       "      <td>NaN</td>\n",
       "      <td>64.812227</td>\n",
       "      <td>167.234988</td>\n",
       "      <td>31.835583</td>\n",
       "      <td>35.661191</td>\n",
       "      <td>18.228060</td>\n",
       "      <td>24.117071</td>\n",
       "      <td>316.953893</td>\n",
       "      <td>4.016191</td>\n",
       "      <td>0.524196</td>\n",
       "      <td>Turbine_01</td>\n",
       "      <td>48.670906</td>\n",
       "    </tr>\n",
       "    <tr>\n",
       "      <th>1</th>\n",
       "      <td>1</td>\n",
       "      <td>11/6/2021 17:40</td>\n",
       "      <td>258.278976</td>\n",
       "      <td>253.123637</td>\n",
       "      <td>33.392501</td>\n",
       "      <td>789.391492</td>\n",
       "      <td>57.227210</td>\n",
       "      <td>223.845406</td>\n",
       "      <td>32.870656</td>\n",
       "      <td>32.916340</td>\n",
       "      <td>84.444679</td>\n",
       "      <td>102.651681</td>\n",
       "      <td>70.390775</td>\n",
       "      <td>5.198709</td>\n",
       "      <td>0.311840</td>\n",
       "      <td>Turbine_97</td>\n",
       "      <td>47.779032</td>\n",
       "    </tr>\n",
       "    <tr>\n",
       "      <th>2</th>\n",
       "      <td>2</td>\n",
       "      <td>12/23/2021 21:08</td>\n",
       "      <td>234.884260</td>\n",
       "      <td>236.785260</td>\n",
       "      <td>33.320189</td>\n",
       "      <td>NaN</td>\n",
       "      <td>47.570285</td>\n",
       "      <td>182.448718</td>\n",
       "      <td>33.043858</td>\n",
       "      <td>29.726347</td>\n",
       "      <td>19.863061</td>\n",
       "      <td>38.311028</td>\n",
       "      <td>302.287781</td>\n",
       "      <td>5.443600</td>\n",
       "      <td>0.367809</td>\n",
       "      <td>Turbine_158</td>\n",
       "      <td>45.542946</td>\n",
       "    </tr>\n",
       "    <tr>\n",
       "      <th>3</th>\n",
       "      <td>3</td>\n",
       "      <td>1/2/2021 16:01</td>\n",
       "      <td>50.535151</td>\n",
       "      <td>37.784692</td>\n",
       "      <td>NaN</td>\n",
       "      <td>NaN</td>\n",
       "      <td>33.838225</td>\n",
       "      <td>14.912772</td>\n",
       "      <td>33.752039</td>\n",
       "      <td>30.534683</td>\n",
       "      <td>94.085461</td>\n",
       "      <td>96.431728</td>\n",
       "      <td>93.148946</td>\n",
       "      <td>3.971027</td>\n",
       "      <td>0.631113</td>\n",
       "      <td>Turbine_20</td>\n",
       "      <td>47.515691</td>\n",
       "    </tr>\n",
       "    <tr>\n",
       "      <th>4</th>\n",
       "      <td>4</td>\n",
       "      <td>12/6/2021 17:46</td>\n",
       "      <td>247.842835</td>\n",
       "      <td>241.342895</td>\n",
       "      <td>32.897556</td>\n",
       "      <td>NaN</td>\n",
       "      <td>64.972858</td>\n",
       "      <td>226.304581</td>\n",
       "      <td>32.558620</td>\n",
       "      <td>32.711412</td>\n",
       "      <td>93.393299</td>\n",
       "      <td>103.011902</td>\n",
       "      <td>140.825768</td>\n",
       "      <td>4.746520</td>\n",
       "      <td>0.341984</td>\n",
       "      <td>Turbine_20</td>\n",
       "      <td>44.625755</td>\n",
       "    </tr>\n",
       "  </tbody>\n",
       "</table>\n",
       "</div>"
      ],
      "text/plain": [
       "   id         timestamp  active_power_calculated_by_converter  \\\n",
       "0   0   6/22/2021 13:15                             59.071225   \n",
       "1   1   11/6/2021 17:40                            258.278976   \n",
       "2   2  12/23/2021 21:08                            234.884260   \n",
       "3   3    1/2/2021 16:01                             50.535151   \n",
       "4   4   12/6/2021 17:46                            247.842835   \n",
       "\n",
       "   active_power_raw  ambient_temperature  generator_speed  \\\n",
       "0         59.117203            35.765579              NaN   \n",
       "1        253.123637            33.392501       789.391492   \n",
       "2        236.785260            33.320189              NaN   \n",
       "3         37.784692                  NaN              NaN   \n",
       "4        241.342895            32.897556              NaN   \n",
       "\n",
       "   generator_winding_temp_max  grid_power10min_average  nc1_inside_temp  \\\n",
       "0                   64.812227               167.234988        31.835583   \n",
       "1                   57.227210               223.845406        32.870656   \n",
       "2                   47.570285               182.448718        33.043858   \n",
       "3                   33.838225                14.912772        33.752039   \n",
       "4                   64.972858               226.304581        32.558620   \n",
       "\n",
       "   nacelle_temp  reactice_power_calculated_by_converter  reactive_power  \\\n",
       "0     35.661191                               18.228060       24.117071   \n",
       "1     32.916340                               84.444679      102.651681   \n",
       "2     29.726347                               19.863061       38.311028   \n",
       "3     30.534683                               94.085461       96.431728   \n",
       "4     32.711412                               93.393299      103.011902   \n",
       "\n",
       "   wind_direction_raw  wind_speed_raw  wind_speed_turbulence   turbine_id  \\\n",
       "0          316.953893        4.016191               0.524196   Turbine_01   \n",
       "1           70.390775        5.198709               0.311840   Turbine_97   \n",
       "2          302.287781        5.443600               0.367809  Turbine_158   \n",
       "3           93.148946        3.971027               0.631113   Turbine_20   \n",
       "4          140.825768        4.746520               0.341984   Turbine_20   \n",
       "\n",
       "      Target  \n",
       "0  48.670906  \n",
       "1  47.779032  \n",
       "2  45.542946  \n",
       "3  47.515691  \n",
       "4  44.625755  "
      ]
     },
     "execution_count": 2,
     "metadata": {},
     "output_type": "execute_result"
    }
   ],
   "source": [
    "mydata = pd.read_csv(\"turbain_data.csv\")\n",
    "mydata.head()"
   ]
  },
  {
   "cell_type": "code",
   "execution_count": 4,
   "metadata": {},
   "outputs": [
    {
     "name": "stdout",
     "output_type": "stream",
     "text": [
      "<class 'pandas.core.frame.DataFrame'>\n",
      "RangeIndex: 591239 entries, 0 to 591238\n",
      "Data columns (total 17 columns):\n",
      " #   Column                                  Non-Null Count   Dtype  \n",
      "---  ------                                  --------------   -----  \n",
      " 0   id                                      591239 non-null  int64  \n",
      " 1   timestamp                               591239 non-null  object \n",
      " 2   active_power_calculated_by_converter    591229 non-null  float64\n",
      " 3   active_power_raw                        591222 non-null  float64\n",
      " 4   ambient_temperature                     581442 non-null  float64\n",
      " 5   generator_speed                         274403 non-null  float64\n",
      " 6   generator_winding_temp_max              591238 non-null  float64\n",
      " 7   grid_power10min_average                 591204 non-null  float64\n",
      " 8   nc1_inside_temp                         591007 non-null  float64\n",
      " 9   nacelle_temp                            591021 non-null  float64\n",
      " 10  reactice_power_calculated_by_converter  591235 non-null  float64\n",
      " 11  reactive_power                          591237 non-null  float64\n",
      " 12  wind_direction_raw                      591232 non-null  float64\n",
      " 13  wind_speed_raw                          591238 non-null  float64\n",
      " 14  wind_speed_turbulence                   591224 non-null  float64\n",
      " 15  turbine_id                              591235 non-null  object \n",
      " 16  Target                                  591239 non-null  float64\n",
      "dtypes: float64(14), int64(1), object(2)\n",
      "memory usage: 76.7+ MB\n",
      "None\n"
     ]
    }
   ],
   "source": [
    "print(mydata.info())"
   ]
  },
  {
   "cell_type": "markdown",
   "metadata": {},
   "source": [
    "# Business questions:\n"
   ]
  },
  {
   "cell_type": "markdown",
   "metadata": {},
   "source": [
    "What is the most efficient turbine engine ?\n",
    "What causes turbine engine failure ?\n",
    "How can our model help ?"
   ]
  },
  {
   "cell_type": "markdown",
   "metadata": {},
   "source": [
    "# DATA CLEANING & PREPEOCESSING"
   ]
  },
  {
   "cell_type": "code",
   "execution_count": 5,
   "metadata": {},
   "outputs": [],
   "source": [
    "missing_values_count = mydata.isnull().sum()"
   ]
  },
  {
   "cell_type": "code",
   "execution_count": 8,
   "metadata": {},
   "outputs": [
    {
     "data": {
      "text/plain": [
       "id                                             0\n",
       "timestamp                                      0\n",
       "active_power_calculated_by_converter          10\n",
       "active_power_raw                              17\n",
       "ambient_temperature                         9797\n",
       "generator_speed                           316836\n",
       "generator_winding_temp_max                     1\n",
       "grid_power10min_average                       35\n",
       "nc1_inside_temp                              232\n",
       "nacelle_temp                                 218\n",
       "reactice_power_calculated_by_converter         4\n",
       "reactive_power                                 2\n",
       "wind_direction_raw                             7\n",
       "wind_speed_raw                                 1\n",
       "wind_speed_turbulence                         15\n",
       "turbine_id                                     4\n",
       "Target                                         0\n",
       "dtype: int64"
      ]
     },
     "execution_count": 8,
     "metadata": {},
     "output_type": "execute_result"
    }
   ],
   "source": [
    "missing_values_count[0:17] #mydata.isna().sum()"
   ]
  },
  {
   "cell_type": "markdown",
   "metadata": {},
   "source": [
    "# check percentage of missing value "
   ]
  },
  {
   "cell_type": "code",
   "execution_count": 9,
   "metadata": {},
   "outputs": [],
   "source": [
    "total_missing =missing_values_count.sum()"
   ]
  },
  {
   "cell_type": "code",
   "execution_count": 10,
   "metadata": {},
   "outputs": [],
   "source": [
    "# how many total missing values do we have?\n",
    "total_cells = np.product(mydata.shape)"
   ]
  },
  {
   "cell_type": "code",
   "execution_count": 12,
   "metadata": {},
   "outputs": [
    {
     "data": {
      "text/plain": [
       "3.255168134952492"
      ]
     },
     "execution_count": 12,
     "metadata": {},
     "output_type": "execute_result"
    }
   ],
   "source": [
    "(total_missing/total_cells) * 100"
   ]
  },
  {
   "cell_type": "code",
   "execution_count": 13,
   "metadata": {},
   "outputs": [],
   "source": [
    "mydata.drop(columns='generator_speed',inplace=True)"
   ]
  },
  {
   "cell_type": "code",
   "execution_count": 14,
   "metadata": {},
   "outputs": [
    {
     "data": {
      "text/plain": [
       "id                                           0\n",
       "timestamp                                    0\n",
       "active_power_calculated_by_converter        10\n",
       "active_power_raw                            17\n",
       "ambient_temperature                       9797\n",
       "generator_winding_temp_max                   1\n",
       "grid_power10min_average                     35\n",
       "nc1_inside_temp                            232\n",
       "nacelle_temp                               218\n",
       "reactice_power_calculated_by_converter       4\n",
       "reactive_power                               2\n",
       "wind_direction_raw                           7\n",
       "wind_speed_raw                               1\n",
       "wind_speed_turbulence                       15\n",
       "turbine_id                                   4\n",
       "Target                                       0\n",
       "dtype: int64"
      ]
     },
     "execution_count": 14,
     "metadata": {},
     "output_type": "execute_result"
    }
   ],
   "source": [
    "mydata.isna().sum()"
   ]
  },
  {
   "cell_type": "markdown",
   "metadata": {},
   "source": [
    "--> we will fill null values with mean of columns"
   ]
  },
  {
   "cell_type": "code",
   "execution_count": 15,
   "metadata": {},
   "outputs": [],
   "source": [
    "mean1 = mydata.ambient_temperature.mean()\n",
    "mydata.loc[mydata['ambient_temperature'].isnull(),'ambient_temperature' ] = mean1"
   ]
  },
  {
   "cell_type": "code",
   "execution_count": 16,
   "metadata": {},
   "outputs": [],
   "source": [
    "mean2 = mydata.active_power_calculated_by_converter.mean()\n",
    "mydata.loc[mydata['active_power_calculated_by_converter'].isnull(),'active_power_calculated_by_converter' ] = mean2"
   ]
  },
  {
   "cell_type": "code",
   "execution_count": 17,
   "metadata": {},
   "outputs": [],
   "source": [
    "mean3 = mydata.active_power_raw .mean()\n",
    "mydata.loc[mydata['active_power_raw'].isnull(),'active_power_raw' ] = mean3"
   ]
  },
  {
   "cell_type": "code",
   "execution_count": 18,
   "metadata": {},
   "outputs": [],
   "source": [
    "mean4 = mydata.generator_winding_temp_max.mean()\n",
    "mydata.loc[mydata['generator_winding_temp_max'].isnull(),'generator_winding_temp_max' ] = mean4"
   ]
  },
  {
   "cell_type": "code",
   "execution_count": 19,
   "metadata": {},
   "outputs": [],
   "source": [
    "mean5 = mydata.grid_power10min_average.mean()\n",
    "mydata.loc[mydata['grid_power10min_average'].isnull(),'grid_power10min_average' ] = mean5"
   ]
  },
  {
   "cell_type": "code",
   "execution_count": 20,
   "metadata": {},
   "outputs": [],
   "source": [
    "mean6 = mydata.nc1_inside_temp.mean()\n",
    "mydata.loc[mydata['nc1_inside_temp'].isnull(),'nc1_inside_temp' ] = mean6"
   ]
  },
  {
   "cell_type": "code",
   "execution_count": 21,
   "metadata": {},
   "outputs": [],
   "source": [
    "mean7 = mydata.nacelle_temp.mean()\n",
    "mydata.loc[mydata['nacelle_temp'].isnull(),'nacelle_temp' ] = mean7"
   ]
  },
  {
   "cell_type": "code",
   "execution_count": 22,
   "metadata": {},
   "outputs": [],
   "source": [
    "mean8 = mydata.reactice_power_calculated_by_converter.mean()\n",
    "mydata.loc[mydata['reactice_power_calculated_by_converter'].isnull(),'reactice_power_calculated_by_converter' ] = mean8"
   ]
  },
  {
   "cell_type": "code",
   "execution_count": 23,
   "metadata": {},
   "outputs": [],
   "source": [
    "mean9 = mydata.reactive_power.mean()\n",
    "mydata.loc[mydata['reactive_power'].isnull(),'reactive_power' ] = mean9"
   ]
  },
  {
   "cell_type": "code",
   "execution_count": 24,
   "metadata": {},
   "outputs": [],
   "source": [
    "mean10 = mydata.wind_direction_raw .mean()\n",
    "mydata.loc[mydata['wind_direction_raw'].isnull(),'wind_direction_raw' ] = mean10"
   ]
  },
  {
   "cell_type": "code",
   "execution_count": 25,
   "metadata": {},
   "outputs": [],
   "source": [
    "mean11 = mydata.wind_speed_raw .mean()\n",
    "mydata.loc[mydata['wind_speed_raw'].isnull(),'wind_speed_raw' ] = mean11"
   ]
  },
  {
   "cell_type": "code",
   "execution_count": 26,
   "metadata": {},
   "outputs": [],
   "source": [
    "mean12 = mydata.wind_speed_turbulence.mean()\n",
    "mydata.loc[mydata['wind_speed_turbulence'].isnull(),'wind_speed_turbulence' ] = mean12"
   ]
  },
  {
   "cell_type": "code",
   "execution_count": 27,
   "metadata": {},
   "outputs": [
    {
     "data": {
      "text/plain": [
       "id                                        0\n",
       "timestamp                                 0\n",
       "active_power_calculated_by_converter      0\n",
       "active_power_raw                          0\n",
       "ambient_temperature                       0\n",
       "generator_winding_temp_max                0\n",
       "grid_power10min_average                   0\n",
       "nc1_inside_temp                           0\n",
       "nacelle_temp                              0\n",
       "reactice_power_calculated_by_converter    0\n",
       "reactive_power                            0\n",
       "wind_direction_raw                        0\n",
       "wind_speed_raw                            0\n",
       "wind_speed_turbulence                     0\n",
       "turbine_id                                4\n",
       "Target                                    0\n",
       "dtype: int64"
      ]
     },
     "execution_count": 27,
     "metadata": {},
     "output_type": "execute_result"
    }
   ],
   "source": [
    "mydata.isna().sum()"
   ]
  },
  {
   "cell_type": "markdown",
   "metadata": {},
   "source": [
    "# changing column names to be more descriable"
   ]
  },
  {
   "cell_type": "code",
   "execution_count": 28,
   "metadata": {},
   "outputs": [],
   "source": [
    "mydata.rename(columns = {'wind_direction_raw':'wind_direction'\n",
    "                        ,'wind_speed_raw':'wind_speed'\n",
    "                        ,'turbine_id':'Turbien_ID'\n",
    "                        ,'generator_winding_temp_max':'wind_temp_max'\n",
    "                        ,'reactice_power_calculated_by_converter':'reactive_power'\n",
    "                        ,'timestamp':'Date'}, inplace = True)"
   ]
  },
  {
   "cell_type": "code",
   "execution_count": 29,
   "metadata": {},
   "outputs": [
    {
     "data": {
      "text/html": [
       "<div>\n",
       "<style scoped>\n",
       "    .dataframe tbody tr th:only-of-type {\n",
       "        vertical-align: middle;\n",
       "    }\n",
       "\n",
       "    .dataframe tbody tr th {\n",
       "        vertical-align: top;\n",
       "    }\n",
       "\n",
       "    .dataframe thead th {\n",
       "        text-align: right;\n",
       "    }\n",
       "</style>\n",
       "<table border=\"1\" class=\"dataframe\">\n",
       "  <thead>\n",
       "    <tr style=\"text-align: right;\">\n",
       "      <th></th>\n",
       "      <th>id</th>\n",
       "      <th>Date</th>\n",
       "      <th>active_power_calculated_by_converter</th>\n",
       "      <th>active_power_raw</th>\n",
       "      <th>ambient_temperature</th>\n",
       "      <th>wind_temp_max</th>\n",
       "      <th>grid_power10min_average</th>\n",
       "      <th>nc1_inside_temp</th>\n",
       "      <th>nacelle_temp</th>\n",
       "      <th>reactive_power</th>\n",
       "      <th>reactive_power</th>\n",
       "      <th>wind_direction</th>\n",
       "      <th>wind_speed</th>\n",
       "      <th>wind_speed_turbulence</th>\n",
       "      <th>Turbien_ID</th>\n",
       "      <th>Target</th>\n",
       "    </tr>\n",
       "  </thead>\n",
       "  <tbody>\n",
       "    <tr>\n",
       "      <th>0</th>\n",
       "      <td>0</td>\n",
       "      <td>6/22/2021 13:15</td>\n",
       "      <td>59.071225</td>\n",
       "      <td>59.117203</td>\n",
       "      <td>35.765579</td>\n",
       "      <td>64.812227</td>\n",
       "      <td>167.234988</td>\n",
       "      <td>31.835583</td>\n",
       "      <td>35.661191</td>\n",
       "      <td>18.228060</td>\n",
       "      <td>24.117071</td>\n",
       "      <td>316.953893</td>\n",
       "      <td>4.016191</td>\n",
       "      <td>0.524196</td>\n",
       "      <td>Turbine_01</td>\n",
       "      <td>48.670906</td>\n",
       "    </tr>\n",
       "    <tr>\n",
       "      <th>1</th>\n",
       "      <td>1</td>\n",
       "      <td>11/6/2021 17:40</td>\n",
       "      <td>258.278976</td>\n",
       "      <td>253.123637</td>\n",
       "      <td>33.392501</td>\n",
       "      <td>57.227210</td>\n",
       "      <td>223.845406</td>\n",
       "      <td>32.870656</td>\n",
       "      <td>32.916340</td>\n",
       "      <td>84.444679</td>\n",
       "      <td>102.651681</td>\n",
       "      <td>70.390775</td>\n",
       "      <td>5.198709</td>\n",
       "      <td>0.311840</td>\n",
       "      <td>Turbine_97</td>\n",
       "      <td>47.779032</td>\n",
       "    </tr>\n",
       "    <tr>\n",
       "      <th>2</th>\n",
       "      <td>2</td>\n",
       "      <td>12/23/2021 21:08</td>\n",
       "      <td>234.884260</td>\n",
       "      <td>236.785260</td>\n",
       "      <td>33.320189</td>\n",
       "      <td>47.570285</td>\n",
       "      <td>182.448718</td>\n",
       "      <td>33.043858</td>\n",
       "      <td>29.726347</td>\n",
       "      <td>19.863061</td>\n",
       "      <td>38.311028</td>\n",
       "      <td>302.287781</td>\n",
       "      <td>5.443600</td>\n",
       "      <td>0.367809</td>\n",
       "      <td>Turbine_158</td>\n",
       "      <td>45.542946</td>\n",
       "    </tr>\n",
       "    <tr>\n",
       "      <th>3</th>\n",
       "      <td>3</td>\n",
       "      <td>1/2/2021 16:01</td>\n",
       "      <td>50.535151</td>\n",
       "      <td>37.784692</td>\n",
       "      <td>25.575695</td>\n",
       "      <td>33.838225</td>\n",
       "      <td>14.912772</td>\n",
       "      <td>33.752039</td>\n",
       "      <td>30.534683</td>\n",
       "      <td>94.085461</td>\n",
       "      <td>96.431728</td>\n",
       "      <td>93.148946</td>\n",
       "      <td>3.971027</td>\n",
       "      <td>0.631113</td>\n",
       "      <td>Turbine_20</td>\n",
       "      <td>47.515691</td>\n",
       "    </tr>\n",
       "    <tr>\n",
       "      <th>4</th>\n",
       "      <td>4</td>\n",
       "      <td>12/6/2021 17:46</td>\n",
       "      <td>247.842835</td>\n",
       "      <td>241.342895</td>\n",
       "      <td>32.897556</td>\n",
       "      <td>64.972858</td>\n",
       "      <td>226.304581</td>\n",
       "      <td>32.558620</td>\n",
       "      <td>32.711412</td>\n",
       "      <td>93.393299</td>\n",
       "      <td>103.011902</td>\n",
       "      <td>140.825768</td>\n",
       "      <td>4.746520</td>\n",
       "      <td>0.341984</td>\n",
       "      <td>Turbine_20</td>\n",
       "      <td>44.625755</td>\n",
       "    </tr>\n",
       "    <tr>\n",
       "      <th>...</th>\n",
       "      <td>...</td>\n",
       "      <td>...</td>\n",
       "      <td>...</td>\n",
       "      <td>...</td>\n",
       "      <td>...</td>\n",
       "      <td>...</td>\n",
       "      <td>...</td>\n",
       "      <td>...</td>\n",
       "      <td>...</td>\n",
       "      <td>...</td>\n",
       "      <td>...</td>\n",
       "      <td>...</td>\n",
       "      <td>...</td>\n",
       "      <td>...</td>\n",
       "      <td>...</td>\n",
       "      <td>...</td>\n",
       "    </tr>\n",
       "    <tr>\n",
       "      <th>591234</th>\n",
       "      <td>591234</td>\n",
       "      <td>3/18/2021 19:37</td>\n",
       "      <td>121.264847</td>\n",
       "      <td>108.633915</td>\n",
       "      <td>28.822063</td>\n",
       "      <td>60.426447</td>\n",
       "      <td>78.542900</td>\n",
       "      <td>28.404571</td>\n",
       "      <td>32.300816</td>\n",
       "      <td>87.176760</td>\n",
       "      <td>97.308688</td>\n",
       "      <td>276.542084</td>\n",
       "      <td>3.921454</td>\n",
       "      <td>0.352061</td>\n",
       "      <td>Turbine_97</td>\n",
       "      <td>49.511423</td>\n",
       "    </tr>\n",
       "    <tr>\n",
       "      <th>591235</th>\n",
       "      <td>591235</td>\n",
       "      <td>7/24/2021 4:54</td>\n",
       "      <td>679.381755</td>\n",
       "      <td>699.714915</td>\n",
       "      <td>26.066999</td>\n",
       "      <td>59.386416</td>\n",
       "      <td>609.587229</td>\n",
       "      <td>34.645046</td>\n",
       "      <td>32.662838</td>\n",
       "      <td>49.636947</td>\n",
       "      <td>73.951992</td>\n",
       "      <td>262.125946</td>\n",
       "      <td>6.539214</td>\n",
       "      <td>0.620994</td>\n",
       "      <td>Turbine_15</td>\n",
       "      <td>46.682127</td>\n",
       "    </tr>\n",
       "    <tr>\n",
       "      <th>591236</th>\n",
       "      <td>591236</td>\n",
       "      <td>11/9/2021 13:51</td>\n",
       "      <td>289.928238</td>\n",
       "      <td>285.483582</td>\n",
       "      <td>31.997511</td>\n",
       "      <td>61.138416</td>\n",
       "      <td>517.386113</td>\n",
       "      <td>41.325528</td>\n",
       "      <td>37.321171</td>\n",
       "      <td>85.270166</td>\n",
       "      <td>106.643428</td>\n",
       "      <td>35.269936</td>\n",
       "      <td>4.627115</td>\n",
       "      <td>1.153216</td>\n",
       "      <td>Turbine_14</td>\n",
       "      <td>49.314674</td>\n",
       "    </tr>\n",
       "    <tr>\n",
       "      <th>591237</th>\n",
       "      <td>591237</td>\n",
       "      <td>2/2/2021 2:58</td>\n",
       "      <td>28.318385</td>\n",
       "      <td>12.871501</td>\n",
       "      <td>33.040375</td>\n",
       "      <td>47.513898</td>\n",
       "      <td>8.731869</td>\n",
       "      <td>32.886009</td>\n",
       "      <td>30.212943</td>\n",
       "      <td>92.453150</td>\n",
       "      <td>95.705736</td>\n",
       "      <td>184.148130</td>\n",
       "      <td>3.581920</td>\n",
       "      <td>0.277640</td>\n",
       "      <td>Turbine_20</td>\n",
       "      <td>51.652792</td>\n",
       "    </tr>\n",
       "    <tr>\n",
       "      <th>591238</th>\n",
       "      <td>591238</td>\n",
       "      <td>8/2/2021 0:46</td>\n",
       "      <td>282.908948</td>\n",
       "      <td>283.232198</td>\n",
       "      <td>25.762563</td>\n",
       "      <td>63.641921</td>\n",
       "      <td>657.737457</td>\n",
       "      <td>31.558531</td>\n",
       "      <td>31.508815</td>\n",
       "      <td>53.485143</td>\n",
       "      <td>74.612996</td>\n",
       "      <td>266.774541</td>\n",
       "      <td>4.811480</td>\n",
       "      <td>1.051520</td>\n",
       "      <td>Turbine_15</td>\n",
       "      <td>45.788853</td>\n",
       "    </tr>\n",
       "  </tbody>\n",
       "</table>\n",
       "<p>591239 rows × 16 columns</p>\n",
       "</div>"
      ],
      "text/plain": [
       "            id              Date  active_power_calculated_by_converter  \\\n",
       "0            0   6/22/2021 13:15                             59.071225   \n",
       "1            1   11/6/2021 17:40                            258.278976   \n",
       "2            2  12/23/2021 21:08                            234.884260   \n",
       "3            3    1/2/2021 16:01                             50.535151   \n",
       "4            4   12/6/2021 17:46                            247.842835   \n",
       "...        ...               ...                                   ...   \n",
       "591234  591234   3/18/2021 19:37                            121.264847   \n",
       "591235  591235    7/24/2021 4:54                            679.381755   \n",
       "591236  591236   11/9/2021 13:51                            289.928238   \n",
       "591237  591237     2/2/2021 2:58                             28.318385   \n",
       "591238  591238     8/2/2021 0:46                            282.908948   \n",
       "\n",
       "        active_power_raw  ambient_temperature  wind_temp_max  \\\n",
       "0              59.117203            35.765579      64.812227   \n",
       "1             253.123637            33.392501      57.227210   \n",
       "2             236.785260            33.320189      47.570285   \n",
       "3              37.784692            25.575695      33.838225   \n",
       "4             241.342895            32.897556      64.972858   \n",
       "...                  ...                  ...            ...   \n",
       "591234        108.633915            28.822063      60.426447   \n",
       "591235        699.714915            26.066999      59.386416   \n",
       "591236        285.483582            31.997511      61.138416   \n",
       "591237         12.871501            33.040375      47.513898   \n",
       "591238        283.232198            25.762563      63.641921   \n",
       "\n",
       "        grid_power10min_average  nc1_inside_temp  nacelle_temp  \\\n",
       "0                    167.234988        31.835583     35.661191   \n",
       "1                    223.845406        32.870656     32.916340   \n",
       "2                    182.448718        33.043858     29.726347   \n",
       "3                     14.912772        33.752039     30.534683   \n",
       "4                    226.304581        32.558620     32.711412   \n",
       "...                         ...              ...           ...   \n",
       "591234                78.542900        28.404571     32.300816   \n",
       "591235               609.587229        34.645046     32.662838   \n",
       "591236               517.386113        41.325528     37.321171   \n",
       "591237                 8.731869        32.886009     30.212943   \n",
       "591238               657.737457        31.558531     31.508815   \n",
       "\n",
       "        reactive_power  reactive_power  wind_direction  wind_speed  \\\n",
       "0            18.228060       24.117071      316.953893    4.016191   \n",
       "1            84.444679      102.651681       70.390775    5.198709   \n",
       "2            19.863061       38.311028      302.287781    5.443600   \n",
       "3            94.085461       96.431728       93.148946    3.971027   \n",
       "4            93.393299      103.011902      140.825768    4.746520   \n",
       "...                ...             ...             ...         ...   \n",
       "591234       87.176760       97.308688      276.542084    3.921454   \n",
       "591235       49.636947       73.951992      262.125946    6.539214   \n",
       "591236       85.270166      106.643428       35.269936    4.627115   \n",
       "591237       92.453150       95.705736      184.148130    3.581920   \n",
       "591238       53.485143       74.612996      266.774541    4.811480   \n",
       "\n",
       "        wind_speed_turbulence   Turbien_ID     Target  \n",
       "0                    0.524196   Turbine_01  48.670906  \n",
       "1                    0.311840   Turbine_97  47.779032  \n",
       "2                    0.367809  Turbine_158  45.542946  \n",
       "3                    0.631113   Turbine_20  47.515691  \n",
       "4                    0.341984   Turbine_20  44.625755  \n",
       "...                       ...          ...        ...  \n",
       "591234               0.352061   Turbine_97  49.511423  \n",
       "591235               0.620994   Turbine_15  46.682127  \n",
       "591236               1.153216   Turbine_14  49.314674  \n",
       "591237               0.277640   Turbine_20  51.652792  \n",
       "591238               1.051520   Turbine_15  45.788853  \n",
       "\n",
       "[591239 rows x 16 columns]"
      ]
     },
     "execution_count": 29,
     "metadata": {},
     "output_type": "execute_result"
    }
   ],
   "source": [
    "mydata"
   ]
  },
  {
   "cell_type": "code",
   "execution_count": 30,
   "metadata": {},
   "outputs": [
    {
     "data": {
      "text/plain": [
       "id                                      0\n",
       "Date                                    0\n",
       "active_power_calculated_by_converter    0\n",
       "active_power_raw                        0\n",
       "ambient_temperature                     0\n",
       "wind_temp_max                           0\n",
       "grid_power10min_average                 0\n",
       "nc1_inside_temp                         0\n",
       "nacelle_temp                            0\n",
       "reactive_power                          0\n",
       "reactive_power                          0\n",
       "wind_direction                          0\n",
       "wind_speed                              0\n",
       "wind_speed_turbulence                   0\n",
       "Turbien_ID                              4\n",
       "Target                                  0\n",
       "dtype: int64"
      ]
     },
     "execution_count": 30,
     "metadata": {},
     "output_type": "execute_result"
    }
   ],
   "source": [
    "mydata.isna().sum()"
   ]
  },
  {
   "cell_type": "code",
   "execution_count": null,
   "metadata": {},
   "outputs": [],
   "source": []
  },
  {
   "cell_type": "code",
   "execution_count": null,
   "metadata": {},
   "outputs": [],
   "source": []
  },
  {
   "cell_type": "code",
   "execution_count": null,
   "metadata": {},
   "outputs": [],
   "source": []
  },
  {
   "cell_type": "code",
   "execution_count": null,
   "metadata": {},
   "outputs": [],
   "source": []
  },
  {
   "cell_type": "code",
   "execution_count": null,
   "metadata": {},
   "outputs": [],
   "source": []
  }
 ],
 "metadata": {
  "kernelspec": {
   "display_name": "Python 3",
   "language": "python",
   "name": "python3"
  },
  "language_info": {
   "codemirror_mode": {
    "name": "ipython",
    "version": 3
   },
   "file_extension": ".py",
   "mimetype": "text/x-python",
   "name": "python",
   "nbconvert_exporter": "python",
   "pygments_lexer": "ipython3",
   "version": "3.7.6"
  }
 },
 "nbformat": 4,
 "nbformat_minor": 4
}
